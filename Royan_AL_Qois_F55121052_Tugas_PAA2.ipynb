{
  "nbformat": 4,
  "nbformat_minor": 0,
  "metadata": {
    "colab": {
      "provenance": []
    },
    "kernelspec": {
      "name": "python3",
      "display_name": "Python 3"
    },
    "language_info": {
      "name": "python"
    }
  },
  "cells": [
    {
      "cell_type": "code",
      "execution_count": null,
      "metadata": {
        "id": "Ohpqo6Xv-jeg"
      },
      "outputs": [],
      "source": []
    },
    {
      "cell_type": "markdown",
      "source": [
        "Royan Al Qois\n",
        "F55121052\n",
        "kelas B\n"
      ],
      "metadata": {
        "id": "tKSEpbqq-l9n"
      }
    },
    {
      "cell_type": "markdown",
      "source": [
        "#pengertian insertionsort\n",
        "Insertion Sort adalah algoritma pengurutan sederhana yang bekerja dengan membagi array menjadi dua bagian: bagian terurut dan bagian belum terurut. Pada awalnya, bagian terurut hanya berisi satu elemen, yaitu elemen pertama dari array. Kemudian, algoritma secara berurutan memasukkan elemen-elemen dari bagian belum terurut ke bagian terurut dengan cara membandingkan dan menyisipkan elemen tersebut pada posisi yang tepat."
      ],
      "metadata": {
        "id": "BKGxrBUL_xVA"
      }
    },
    {
      "cell_type": "code",
      "source": [
        "def insertion_sort(arr):\n",
        "    for i in range(1, len(arr)):\n",
        "        key = arr[i]\n",
        "        j = i - 1\n",
        "        while j >= 0 and arr[j] > key:\n",
        "            arr[j + 1] = arr[j]\n",
        "            j -= 1\n",
        "        arr[j + 1] = key\n",
        "\n",
        "# Contoh penggunaan:\n",
        "arr = [5, 2, 8, 12, 3]\n",
        "print(\"Sebelum pengurutan:\", arr)\n",
        "insertion_sort(arr)\n",
        "print(\"Setelah pengurutan:\", arr)"
      ],
      "metadata": {
        "colab": {
          "base_uri": "https://localhost:8080/"
        },
        "id": "oul1smwb_z7i",
        "outputId": "5a9606fb-d5fb-4b3d-a81f-fc7ac955f45c"
      },
      "execution_count": 2,
      "outputs": [
        {
          "output_type": "stream",
          "name": "stdout",
          "text": [
            "Sebelum pengurutan: [5, 2, 8, 12, 3]\n",
            "Setelah pengurutan: [2, 3, 5, 8, 12]\n"
          ]
        }
      ]
    },
    {
      "cell_type": "markdown",
      "source": [
        "#pengertian bubble sort\n",
        "Bubble Sort adalah algoritma pengurutan sederhana yang bekerja dengan membandingkan secara berpasangan elemen-elemen yang berdekatan dalam array dan menukar posisi mereka jika urutannya tidak sesuai. Pada setiap iterasi, elemen dengan nilai lebih besar akan \"naik\" atau \"mendesak\" ke arah akhir array, sehingga elemen dengan nilai terbesar akan berada di posisi paling akhir. Proses ini diulang hingga seluruh array terurut dengan benar."
      ],
      "metadata": {
        "id": "b8LdHgaxAfHE"
      }
    },
    {
      "cell_type": "code",
      "source": [
        "def bubble_sort(arr):\n",
        "    n = len(arr)\n",
        "    for i in range(n):\n",
        "        swapped = False\n",
        "        for j in range(0, n - i - 1):\n",
        "            if arr[j] > arr[j + 1]:\n",
        "                arr[j], arr[j + 1] = arr[j + 1], arr[j]\n",
        "                swapped = True\n",
        "        # Jika tidak ada pertukaran elemen pada iterasi saat ini, array sudah terurut dan iterasi dapat dihentikan.\n",
        "        if not swapped:\n",
        "            break\n",
        "\n",
        "# Contoh penggunaan:\n",
        "arr = [64, 34, 25, 12, 22, 11, 90]\n",
        "print(\"Sebelum pengurutan:\", arr)\n",
        "bubble_sort(arr)\n",
        "print(\"Setelah pengurutan:\", arr)"
      ],
      "metadata": {
        "colab": {
          "base_uri": "https://localhost:8080/"
        },
        "id": "eZYVkLa8BIqi",
        "outputId": "92affc71-f877-4e9a-dc49-defb26cbf15d"
      },
      "execution_count": 3,
      "outputs": [
        {
          "output_type": "stream",
          "name": "stdout",
          "text": [
            "Sebelum pengurutan: [64, 34, 25, 12, 22, 11, 90]\n",
            "Setelah pengurutan: [11, 12, 22, 25, 34, 64, 90]\n"
          ]
        }
      ]
    },
    {
      "cell_type": "markdown",
      "source": [
        "#perbandingan insertionsort dan bubble sort secara optimal dan tidak optimal\n",
        "Insertion Sort adalah algoritma pengurutan yang lebih efisien daripada Bubble Sort. Ini membagi array menjadi bagian terurut dan belum terurut, lalu memasukkan elemen-elemen dari bagian belum terurut ke bagian terurut secara tepat. Insertion Sort memiliki kompleksitas waktu O(n^2), tetapi dalam kasus terbaik, kompleksitas waktu menjadi O(n) jika array sudah terurut. Ini membuat Insertion Sort lebih baik daripada Bubble Sort dalam sebagian besar kasus.\n",
        "\n",
        "Bubble Sort adalah algoritma pengurutan yang sederhana tetapi tidak optimal. Ini bekerja dengan membandingkan elemen berdekatan dalam array dan menukar posisi mereka jika urutannya tidak sesuai. Setiap iterasi hanya memindahkan satu elemen ke posisi yang benar. Kompleksitas waktu Bubble Sort adalah O(n^2), membuatnya kurang efisien untuk array besar."
      ],
      "metadata": {
        "id": "b0Os6JvcCoGE"
      }
    }
  ]
}